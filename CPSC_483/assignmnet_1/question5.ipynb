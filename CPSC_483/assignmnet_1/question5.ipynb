{
 "cells": [
  {
   "cell_type": "markdown",
   "metadata": {},
   "source": [
    "Part 5: Write a program to perform K-fold cross-validation for the three models in #4\n",
    "\n",
    "Resources: \n",
    "1. https://www.statology.org/k-fold-cross-validation-in-python/\n",
    "2. https://www.pluralsight.com/guides/linear-lasso-ridge-regression-scikit-learn\n",
    "\n"
   ]
  },
  {
   "cell_type": "code",
   "execution_count": 9,
   "metadata": {},
   "outputs": [
    {
     "name": "stdout",
     "output_type": "stream",
     "text": [
      "Training RMSE:  0.2516098043115337\n",
      "Training R^2 score: 0.0\n",
      "Testing RMSE: 0.25266705313781657\n",
      "Test R^2 score: -0.00011179930744065203\n",
      "Mean absolute score via k-fold validation:  0.2049063935895618\n"
     ]
    }
   ],
   "source": [
    "#Lasso + K-fold \n",
    "from matplotlib import test\n",
    "import pandas as pd\n",
    "import numpy as np\n",
    "from sklearn.metrics import mean_squared_error, r2_score\n",
    "from sklearn.model_selection import train_test_split, KFold, cross_val_score\n",
    "from sklearn.linear_model import Lasso\n",
    "\n",
    "#loading data, splitting data \n",
    "gas_data = pd.read_csv('/Users/maddie/Projects/CPSC_483/assignmnet_1/Data1.csv') \n",
    "target_column = ['Idx'] \n",
    "predictors = list(set(list(gas_data.columns))-set(target_column))\n",
    "gas_data[predictors] = gas_data[predictors]/gas_data[predictors].max()\n",
    "gas_data.describe()\n",
    "\n",
    "X = gas_data[predictors].values\n",
    "y = gas_data[target_column].values\n",
    "\n",
    "#setting training and testing data size \n",
    "train_x, test_x, train_y, test_y = train_test_split(X, y, test_size=0.20, random_state=40)\n",
    "\n",
    "#Lasso regression function \n",
    "model_lasso = Lasso(alpha=0.05)\n",
    "model_lasso.fit(train_x, train_y) \n",
    "pred_train_lasso= model_lasso.predict(train_x)\n",
    "print('Training RMSE: ' ,  np.sqrt(mean_squared_error(train_y,pred_train_lasso)))\n",
    "print('Training R^2 score:' , r2_score(train_y, pred_train_lasso))\n",
    "\n",
    "pred_test_lasso= model_lasso.predict(test_x)\n",
    "print('Testing RMSE:' , np.sqrt(mean_squared_error(test_y,pred_test_lasso))) \n",
    "print('Test R^2 score:',r2_score(test_y, pred_test_lasso))\n",
    "\n",
    "#k-fold analysis\n",
    "cv = KFold(n_splits=10, random_state=1, shuffle=True)\n",
    "model = Lasso()\n",
    "scores = cross_val_score(model, X, y, scoring='neg_mean_absolute_error', cv=cv, n_jobs=-1)\n",
    "\n",
    "#view mean absolute error\n",
    "print ('Mean absolute score via k-fold validation: ', np.mean(np.absolute(scores)))\n",
    "\n"
   ]
  },
  {
   "cell_type": "code",
   "execution_count": 12,
   "metadata": {},
   "outputs": [
    {
     "name": "stdout",
     "output_type": "stream",
     "text": [
      "Training RMSE:  0.1362642586779505\n",
      "Training R^2 score: 0.7067022064901793\n",
      "Testing RMSE: 0.13653883403073622\n",
      "Test R^2 score: 0.7079456356939777\n",
      "Mean absolute score via k-fold validation:  0.10946677822792561\n"
     ]
    }
   ],
   "source": [
    "#Ridge + K-fold\n",
    "from matplotlib import test\n",
    "import pandas as pd\n",
    "import numpy as np\n",
    "from sklearn.metrics import mean_squared_error, r2_score\n",
    "from sklearn.model_selection import train_test_split, KFold, cross_val_score\n",
    "from sklearn.linear_model import Ridge\n",
    "\n",
    "#loading data, splitting data \n",
    "gas_data = pd.read_csv('/Users/maddie/Projects/CPSC_483/assignmnet_1/Data1.csv') \n",
    "target_column = ['Idx'] \n",
    "predictors = list(set(list(gas_data.columns))-set(target_column))\n",
    "gas_data[predictors] = gas_data[predictors]/gas_data[predictors].max()\n",
    "gas_data.describe()\n",
    "\n",
    "X = gas_data[predictors].values\n",
    "y = gas_data[target_column].values\n",
    "\n",
    "#setting training and testing data size\n",
    "train_x, test_x, train_y, test_y = train_test_split(X, y, test_size=0.20, random_state=40)\n",
    "\n",
    "#Ridge regression function \n",
    "rr = Ridge(alpha=0.01)\n",
    "rr.fit(train_x, train_y) \n",
    "pred_train_rr= rr.predict(train_x)\n",
    "print('Training RMSE: ' , np.sqrt(mean_squared_error(train_y,pred_train_rr))) \n",
    "print('Training R^2 score:' , r2_score(train_y, pred_train_rr))\n",
    "\n",
    "pred_test_rr= rr.predict(test_x)\n",
    "print('Testing RMSE:', np.sqrt(mean_squared_error(test_y,pred_test_rr))) \n",
    "print('Test R^2 score:', r2_score(test_y, pred_test_rr))\n",
    "\n",
    "#k-fold analysis\n",
    "cv = KFold(n_splits=10, random_state=1, shuffle=True)\n",
    "model = Ridge()\n",
    "scores = cross_val_score(model, X, y, scoring='neg_mean_absolute_error', cv=cv, n_jobs=-1)\n",
    "\n",
    "#view mean absolute error\n",
    "print ('Mean absolute score via k-fold validation: ', np.mean(np.absolute(scores)))"
   ]
  },
  {
   "cell_type": "code",
   "execution_count": 13,
   "metadata": {},
   "outputs": [
    {
     "name": "stdout",
     "output_type": "stream",
     "text": [
      "Training RMSE:  0.2516098043115337\n",
      "Training R^2 score: 0.0\n",
      "Testing RMSE: 0.25266705313781657\n",
      "Test R^2 score: -0.00011179930744065203\n",
      "Mean absolute score via k-fold validation:  0.2049063935895618\n"
     ]
    }
   ],
   "source": [
    "#Elastic Net + K-fold\n",
    "from matplotlib import test\n",
    "import pandas as pd\n",
    "import numpy as np\n",
    "from sklearn.metrics import mean_squared_error, r2_score\n",
    "from sklearn.model_selection import train_test_split, KFold, cross_val_score\n",
    "from sklearn.linear_model import ElasticNet\n",
    "\n",
    "#loading data, splitting data \n",
    "gas_data = pd.read_csv('/Users/maddie/Projects/CPSC_483/assignmnet_1/Data1.csv') \n",
    "target_column = ['Idx'] \n",
    "predictors = list(set(list(gas_data.columns))-set(target_column))\n",
    "gas_data[predictors] = gas_data[predictors]/gas_data[predictors].max()\n",
    "gas_data.describe()\n",
    "\n",
    "X = gas_data[predictors].values\n",
    "y = gas_data[target_column].values\n",
    "\n",
    "#setting training and testing data size\n",
    "train_x, test_x, train_y, test_y = train_test_split(X, y, test_size=0.20, random_state=40)\n",
    "\n",
    "#Elastic Net Function\n",
    "model_enet = ElasticNet(alpha = 0.05)\n",
    "model_enet.fit(train_x, train_y) \n",
    "pred_train_enet= model_enet.predict(train_x)\n",
    "print('Training RMSE: ', np.sqrt(mean_squared_error(train_y,pred_train_enet)))\n",
    "print('Training R^2 score:' , r2_score(train_y, pred_train_enet))\n",
    "\n",
    "pred_test_enet= model_enet.predict(test_x)\n",
    "print('Testing RMSE:', np.sqrt(mean_squared_error(test_y,pred_test_enet)))\n",
    "print('Test R^2 score:', r2_score(test_y, pred_test_enet))\n",
    "\n",
    "#k-fold analysis\n",
    "cv = KFold(n_splits=10, random_state=1, shuffle=True)\n",
    "model = ElasticNet()\n",
    "scores = cross_val_score(model, X, y, scoring='neg_mean_absolute_error', cv=cv, n_jobs=-1)\n",
    "\n",
    "#view mean absolute error\n",
    "print ('Mean absolute score via k-fold validation: ', np.mean(np.absolute(scores)))"
   ]
  }
 ],
 "metadata": {
  "kernelspec": {
   "display_name": "Python 3.9.7 ('base')",
   "language": "python",
   "name": "python3"
  },
  "language_info": {
   "codemirror_mode": {
    "name": "ipython",
    "version": 3
   },
   "file_extension": ".py",
   "mimetype": "text/x-python",
   "name": "python",
   "nbconvert_exporter": "python",
   "pygments_lexer": "ipython3",
   "version": "3.9.7"
  },
  "orig_nbformat": 4,
  "vscode": {
   "interpreter": {
    "hash": "4624e6697a0031784eb693c6f40396b07cc796092abab14ba65c66bb0661ee7e"
   }
  }
 },
 "nbformat": 4,
 "nbformat_minor": 2
}
