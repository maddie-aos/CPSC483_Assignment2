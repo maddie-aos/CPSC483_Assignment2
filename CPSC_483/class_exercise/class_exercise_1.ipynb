{
 "cells": [
  {
   "cell_type": "code",
   "execution_count": 21,
   "metadata": {},
   "outputs": [
    {
     "name": "stdout",
     "output_type": "stream",
     "text": [
      "[[126  78]\n",
      " [128  80]\n",
      " [128  82]\n",
      " [130  82]\n",
      " [130  84]\n",
      " [132  86]]\n",
      "Average of each column: [129.  82.]\n",
      "Centered Array:  [[-3. -4.]\n",
      " [-1. -2.]\n",
      " [-1.  0.]\n",
      " [ 1.  0.]\n",
      " [ 1.  2.]\n",
      " [ 3.  4.]]\n",
      "Covariance Matrix:  [[4.4 5.6]\n",
      " [5.6 8. ]]\n",
      "Eigenvectors: [[-0.80808699 -0.58906316]\n",
      " [ 0.58906316 -0.80808699]]\n",
      "Eigenvalues: [ 0.31782353 12.08217647]\n",
      "Projected Data:  [[ 0.06800833 -0.37003933  0.80808699 -0.80808699  0.37003933 -0.06800833]\n",
      " [ 4.99953747  2.20523715  0.58906316 -0.58906316 -2.20523715 -4.99953747]]\n"
     ]
    }
   ],
   "source": [
    "\n",
    "import pandas as pd\n",
    "import numpy as np\n",
    "import math\n",
    "import matplotlib.pyplot as plt\n",
    "\n",
    "\n",
    "data = np.array([[126,78], [128,80], [128,82], [130,82], [130,84], [132,86]])\n",
    "print(data)\n",
    "\n",
    "mu = np.mean(data.T , axis=1)\n",
    "print('Average of each column:' ,mu)\n",
    "\n",
    "center = (data - mu)\n",
    "print ('Centered Array: ', center)\n",
    "\n",
    "covariance_mat = np.cov(center.T)\n",
    "print ('Covariance Matrix: ', covariance_mat)\n",
    "\n",
    "values, vectors = np.linalg.eig(covariance_mat)\n",
    "print ('Eigenvectors:', vectors)\n",
    "print ('Eigenvalues:', values )\n",
    "\n",
    "project_data = vectors.T.dot(center.T)\n",
    "print ('Projected Data: ', project_data)\n",
    "\n",
    "\n"
   ]
  }
 ],
 "metadata": {
  "kernelspec": {
   "display_name": "Python 3.9.7 ('base')",
   "language": "python",
   "name": "python3"
  },
  "language_info": {
   "codemirror_mode": {
    "name": "ipython",
    "version": 3
   },
   "file_extension": ".py",
   "mimetype": "text/x-python",
   "name": "python",
   "nbconvert_exporter": "python",
   "pygments_lexer": "ipython3",
   "version": "3.9.7"
  },
  "orig_nbformat": 4,
  "vscode": {
   "interpreter": {
    "hash": "4624e6697a0031784eb693c6f40396b07cc796092abab14ba65c66bb0661ee7e"
   }
  }
 },
 "nbformat": 4,
 "nbformat_minor": 2
}
