{
 "cells": [
  {
   "cell_type": "markdown",
   "metadata": {},
   "source": [
    "Conduct  a  Principal  Component  Analysis  to  investigate  if  you  can  reduce  the  dimension  of  the chemical data set used for assignment #1 without impacting the model's accuracy.  \n",
    "\n",
    "Required Printouts: \n",
    "- Covariance matrix \n",
    "- Eigenvectors and eigenvalues \n",
    "- Projection matrix \n",
    "- Component matrix and coefficients (loadings) of each PC \n",
    "- Explained variance for each PC \n",
    "- Correlation matrix between the data set and PC scores \n",
    "\n",
    "Resources: \n",
    "1. https://medium.com/analytics-vidhya/principal-component-analysis-from-first-principles-code-walkthrough-pca-b7cc471d7c63\n",
    "2. https://www.datacamp.com/tutorial/principal-component-analysis-in-python\n",
    "3. "
   ]
  },
  {
   "cell_type": "code",
   "execution_count": 5,
   "metadata": {},
   "outputs": [
    {
     "name": "stdout",
     "output_type": "stream",
     "text": [
      "stan loona\n"
     ]
    }
   ],
   "source": [
    "import numpy as np\n",
    "import pandas as pd\n",
    "import matplotlib.pyplot as plt\n",
    "import scipy as sp\n",
    "import sklearn as sk\n",
    "\n",
    "\n",
    "\n"
   ]
  }
 ],
 "metadata": {
  "kernelspec": {
   "display_name": "Python 3.9.7 ('base')",
   "language": "python",
   "name": "python3"
  },
  "language_info": {
   "codemirror_mode": {
    "name": "ipython",
    "version": 3
   },
   "file_extension": ".py",
   "mimetype": "text/x-python",
   "name": "python",
   "nbconvert_exporter": "python",
   "pygments_lexer": "ipython3",
   "version": "3.9.7"
  },
  "orig_nbformat": 4,
  "vscode": {
   "interpreter": {
    "hash": "4624e6697a0031784eb693c6f40396b07cc796092abab14ba65c66bb0661ee7e"
   }
  }
 },
 "nbformat": 4,
 "nbformat_minor": 2
}
